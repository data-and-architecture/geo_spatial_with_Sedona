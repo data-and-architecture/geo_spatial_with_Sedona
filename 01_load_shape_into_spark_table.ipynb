{
 "cells": [
  {
   "cell_type": "code",
   "execution_count": 1,
   "id": "bcd43374-1ffc-4a78-8027-77fafe08af13",
   "metadata": {},
   "outputs": [],
   "source": [
    "import geopandas as gpd\n",
    "from sedona.spark import *\n",
    "from delta import *\n",
    "from pyspark.sql import SparkSession\n",
    "\n",
    "packages = [\n",
    "    'io.delta:delta-core_2.12:2.1.1',\n",
    "    'org.apache.sedona:sedona-spark-shaded-3.4_2.12:1.5.0,'\n",
    "    'org.datasyslab:geotools-wrapper:1.5.0-28.2'\n",
    "]\n",
    "\n",
    "config = SedonaContext.builder()\\\n",
    "     .config(\"spark.jars.packages\", \",\".join(packages))\\\n",
    "     .config(\"spark.sql.extensions\", \"io.delta.sql.DeltaSparkSessionExtension\")\\\n",
    "     .config(\"spark.sql.catalog.spark_catalog\", \"org.apache.spark.sql.delta.catalog.DeltaCatalog\")\\\n",
    "     .enableHiveSupport()\\\n",
    "     .getOrCreate()\n",
    "\n",
    "sedona = SedonaContext.create(config)\n",
    "\n",
    "gdf = gpd.read_file(\"taxi_zones.shp\")\n",
    "\n",
    "gpd.GeoDataFrame.iteritems = gpd.GeoDataFrame.items\n",
    "\n",
    "sedona_df = sedona.createDataFrame(gdf)\n",
    "\n",
    "sedona_df.write.format('delta').mode('overwrite').saveAsTable('taxi_zones')"
   ]
  },
  {
   "cell_type": "code",
   "execution_count": 2,
   "id": "954feaa5-f4aa-476f-8fee-0e8e9cae7a67",
   "metadata": {},
   "outputs": [],
   "source": [
    "%load_ext sparksql_magic"
   ]
  },
  {
   "cell_type": "code",
   "execution_count": 3,
   "id": "b80eb967-6f31-4e19-be15-ea2c5b094d4d",
   "metadata": {},
   "outputs": [
    {
     "data": {
      "text/html": [
       "<table><tr style=\"border-bottom: 1px solid\"><td style=\"font-weight: bold\">namespace</td></tr><tr><td>default</td></tr></table>"
      ],
      "text/plain": [
       "<IPython.core.display.HTML object>"
      ]
     },
     "execution_count": 3,
     "metadata": {},
     "output_type": "execute_result"
    }
   ],
   "source": [
    "%%sparksql\n",
    "\n",
    "show databases;"
   ]
  },
  {
   "cell_type": "code",
   "execution_count": 4,
   "id": "fa3aa0c7-5587-4e8f-bbcc-44fdb5589fba",
   "metadata": {},
   "outputs": [
    {
     "data": {
      "text/html": [
       "<table><tr style=\"border-bottom: 1px solid\"><td style=\"font-weight: bold\">namespace</td><td style=\"font-weight: bold\">tableName</td><td style=\"font-weight: bold\">isTemporary</td></tr><tr><td>default</td><td>device_data_events</td><td>False</td></tr><tr><td>default</td><td>people10m</td><td>False</td></tr><tr><td>default</td><td>taxi_zone_lookup</td><td>False</td></tr><tr><td>default</td><td>taxi_zones</td><td>False</td></tr></table>"
      ],
      "text/plain": [
       "<IPython.core.display.HTML object>"
      ]
     },
     "execution_count": 4,
     "metadata": {},
     "output_type": "execute_result"
    }
   ],
   "source": [
    "%%sparksql\n",
    "show tables in default"
   ]
  }
 ],
 "metadata": {
  "kernelspec": {
   "display_name": "Python 3 (ipykernel)",
   "language": "python",
   "name": "python3"
  },
  "language_info": {
   "codemirror_mode": {
    "name": "ipython",
    "version": 3
   },
   "file_extension": ".py",
   "mimetype": "text/x-python",
   "name": "python",
   "nbconvert_exporter": "python",
   "pygments_lexer": "ipython3",
   "version": "3.10.13"
  }
 },
 "nbformat": 4,
 "nbformat_minor": 5
}
