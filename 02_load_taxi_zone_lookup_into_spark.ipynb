{
 "cells": [
  {
   "cell_type": "code",
   "execution_count": 1,
   "id": "0ee9456e-2eb7-4436-8080-61c596b7ed23",
   "metadata": {},
   "outputs": [],
   "source": [
    "from pyspark.sql import SparkSession\n",
    "from delta import *\n",
    "\n",
    "scala_version = '2.12'  \n",
    "spark_version = '3.3.0'\n",
    "packages = [\n",
    "    f'org.apache.spark:spark-sql-kafka-0-10_{scala_version}:{spark_version}',\n",
    "    'org.apache.kafka:kafka-clients:3.3.0',\n",
    "    'io.delta:delta-core_2.12:2.1.1',\n",
    "    'org.apache.sedona:sedona-spark-shaded-3.4_2.12:1.5.0,'\n",
    "    'org.datasyslab:geotools-wrapper:1.5.0-28.2'\n",
    "]\n",
    "builder = SparkSession.builder\\\n",
    "   .master(\"local\")\\\n",
    "   .appName(\"kafka-example\")\\\n",
    "   .config(\"spark.jars.packages\", \",\".join(packages))\\\n",
    "   .config(\"spark.sql.extensions\", \"io.delta.sql.DeltaSparkSessionExtension\")\\\n",
    "   .config(\"spark.sql.catalog.spark_catalog\", \"org.apache.spark.sql.delta.catalog.DeltaCatalog\")\\\n",
    "   .enableHiveSupport()\n",
    "\n",
    "\n",
    "spark = builder.getOrCreate()\n",
    "#spark = configure_spark_with_delta_pip(builder).getOrCreate()\n"
   ]
  },
  {
   "cell_type": "code",
   "execution_count": 2,
   "id": "952bf310-fbf7-4080-9264-5d13b6a49265",
   "metadata": {},
   "outputs": [],
   "source": [
    "zone_df = (spark.read\n",
    "           .option(\"header\",\"True\")\n",
    "           .option(\"inferSchema\",\"True\")\n",
    "           .csv('taxi_zone_lookup.csv'))"
   ]
  },
  {
   "cell_type": "code",
   "execution_count": 3,
   "id": "5dd31416-ae7f-498f-94e2-34e8ad587729",
   "metadata": {},
   "outputs": [
    {
     "name": "stdout",
     "output_type": "stream",
     "text": [
      "root\n",
      " |-- LocationID: integer (nullable = true)\n",
      " |-- Borough: string (nullable = true)\n",
      " |-- Zone: string (nullable = true)\n",
      " |-- service_zone: string (nullable = true)\n",
      "\n"
     ]
    }
   ],
   "source": [
    "zone_df.printSchema()"
   ]
  },
  {
   "cell_type": "code",
   "execution_count": 4,
   "id": "fc7a0998-d747-4428-ae8f-fce0f592afa5",
   "metadata": {},
   "outputs": [],
   "source": [
    "zone_df.write.format('delta').mode('overwrite').saveAsTable('taxi_zone_lookup')"
   ]
  },
  {
   "cell_type": "code",
   "execution_count": 5,
   "id": "264289e8-97b9-4854-b17e-e4a6df9a6421",
   "metadata": {},
   "outputs": [],
   "source": [
    "%load_ext sparksql_magic"
   ]
  },
  {
   "cell_type": "code",
   "execution_count": 6,
   "id": "e259fc26-0bae-4810-b05d-22fb059994b6",
   "metadata": {},
   "outputs": [
    {
     "data": {
      "text/html": [
       "<table><tr style=\"border-bottom: 1px solid\"><td style=\"font-weight: bold\">namespace</td><td style=\"font-weight: bold\">tableName</td><td style=\"font-weight: bold\">isTemporary</td></tr><tr><td>default</td><td>device_data_events</td><td>False</td></tr><tr><td>default</td><td>people10m</td><td>False</td></tr><tr><td>default</td><td>taxi_zone_lookup</td><td>False</td></tr><tr><td>default</td><td>taxi_zones</td><td>False</td></tr></table>"
      ],
      "text/plain": [
       "<IPython.core.display.HTML object>"
      ]
     },
     "execution_count": 6,
     "metadata": {},
     "output_type": "execute_result"
    }
   ],
   "source": [
    "%%sparksql\n",
    "show tables in default"
   ]
  }
 ],
 "metadata": {
  "kernelspec": {
   "display_name": "Python 3 (ipykernel)",
   "language": "python",
   "name": "python3"
  },
  "language_info": {
   "codemirror_mode": {
    "name": "ipython",
    "version": 3
   },
   "file_extension": ".py",
   "mimetype": "text/x-python",
   "name": "python",
   "nbconvert_exporter": "python",
   "pygments_lexer": "ipython3",
   "version": "3.10.13"
  }
 },
 "nbformat": 4,
 "nbformat_minor": 5
}
