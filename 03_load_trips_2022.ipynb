{
 "cells": [
  {
   "cell_type": "code",
   "execution_count": 1,
   "id": "dc039efb-2d57-4612-bd97-1088502ae7fe",
   "metadata": {},
   "outputs": [],
   "source": [
    "from pyspark.sql import SparkSession\n",
    "from delta import *\n",
    "\n",
    "scala_version = '2.12'  \n",
    "spark_version = '3.3.0'\n",
    "packages = [\n",
    "    f'org.apache.spark:spark-sql-kafka-0-10_{scala_version}:{spark_version}',\n",
    "    'org.apache.kafka:kafka-clients:3.3.0',\n",
    "    'io.delta:delta-core_2.12:2.1.1',\n",
    "    'org.apache.sedona:sedona-spark-shaded-3.4_2.12:1.5.0,'\n",
    "    'org.datasyslab:geotools-wrapper:1.5.0-28.2'\n",
    "]\n",
    "builder = SparkSession.builder\\\n",
    "   .master(\"local\")\\\n",
    "   .appName(\"kafka-example\")\\\n",
    "   .config(\"spark.jars.packages\", \",\".join(packages))\\\n",
    "   .config(\"spark.sql.extensions\", \"io.delta.sql.DeltaSparkSessionExtension\")\\\n",
    "   .config(\"spark.sql.catalog.spark_catalog\", \"org.apache.spark.sql.delta.catalog.DeltaCatalog\")\\\n",
    "   .enableHiveSupport()\n",
    "\n",
    "\n",
    "spark = builder.getOrCreate()\n",
    "#spark = configure_spark_with_delta_pip(builder).getOrCreate()"
   ]
  },
  {
   "cell_type": "code",
   "execution_count": 2,
   "id": "343be39e-e725-47e9-a9d0-58816030d389",
   "metadata": {},
   "outputs": [],
   "source": [
    "trips_df = (spark.read\n",
    "           .option(\"inferSchema\",\"True\")\n",
    "           .parquet('2022.parquet'))"
   ]
  },
  {
   "cell_type": "code",
   "execution_count": 3,
   "id": "de559e12-ab2e-4435-802f-035e8e274aad",
   "metadata": {},
   "outputs": [
    {
     "name": "stdout",
     "output_type": "stream",
     "text": [
      "root\n",
      " |-- VendorID: integer (nullable = true)\n",
      " |-- tpep_pickup_datetime: timestamp (nullable = true)\n",
      " |-- tpep_dropoff_datetime: timestamp (nullable = true)\n",
      " |-- passenger_count: long (nullable = true)\n",
      " |-- trip_distance: double (nullable = true)\n",
      " |-- RatecodeID: long (nullable = true)\n",
      " |-- store_and_fwd_flag: string (nullable = true)\n",
      " |-- PULocationID: integer (nullable = true)\n",
      " |-- DOLocationID: integer (nullable = true)\n",
      " |-- payment_type: long (nullable = true)\n",
      " |-- fare_amount: double (nullable = true)\n",
      " |-- extra: double (nullable = true)\n",
      " |-- mta_tax: double (nullable = true)\n",
      " |-- tip_amount: double (nullable = true)\n",
      " |-- tolls_amount: double (nullable = true)\n",
      " |-- improvement_surcharge: double (nullable = true)\n",
      " |-- total_amount: double (nullable = true)\n",
      " |-- congestion_surcharge: double (nullable = true)\n",
      " |-- Airport_fee: double (nullable = true)\n",
      "\n"
     ]
    }
   ],
   "source": [
    "trips_df.printSchema()"
   ]
  },
  {
   "cell_type": "code",
   "execution_count": 4,
   "id": "e95f0147-3af5-4f9b-9f17-df586144a6dc",
   "metadata": {},
   "outputs": [
    {
     "name": "stdout",
     "output_type": "stream",
     "text": [
      "+--------+--------------------+---------------------+---------------+-------------+----------+------------------+------------+------------+------------+-----------+-----+-------+----------+------------+---------------------+------------+--------------------+-----------+\n",
      "|VendorID|tpep_pickup_datetime|tpep_dropoff_datetime|passenger_count|trip_distance|RatecodeID|store_and_fwd_flag|PULocationID|DOLocationID|payment_type|fare_amount|extra|mta_tax|tip_amount|tolls_amount|improvement_surcharge|total_amount|congestion_surcharge|Airport_fee|\n",
      "+--------+--------------------+---------------------+---------------+-------------+----------+------------------+------------+------------+------------+-----------+-----+-------+----------+------------+---------------------+------------+--------------------+-----------+\n",
      "|1       |2023-02-01 00:32:53 |2023-02-01 00:34:34  |2              |0.3          |1         |N                 |142         |163         |2           |4.4        |3.5  |0.5    |0.0       |0.0         |1.0                  |9.4         |2.5                 |0.0        |\n",
      "|2       |2023-02-01 00:35:16 |2023-02-01 00:35:30  |1              |0.0          |1         |N                 |71          |71          |4           |-3.0       |-1.0 |-0.5   |0.0       |0.0         |-1.0                 |-5.5        |0.0                 |0.0        |\n",
      "+--------+--------------------+---------------------+---------------+-------------+----------+------------------+------------+------------+------------+-----------+-----+-------+----------+------------+---------------------+------------+--------------------+-----------+\n",
      "only showing top 2 rows\n",
      "\n"
     ]
    }
   ],
   "source": [
    "trips_df.show(2,False)"
   ]
  },
  {
   "cell_type": "code",
   "execution_count": 5,
   "id": "cdae631d-7d23-44f7-9361-bcc28bfee987",
   "metadata": {},
   "outputs": [],
   "source": [
    "trips_df.write.format('delta').mode('overwrite').saveAsTable('trips_data')"
   ]
  },
  {
   "cell_type": "code",
   "execution_count": 6,
   "id": "fc89e276-3a59-45df-a36c-007b1bdb1687",
   "metadata": {},
   "outputs": [],
   "source": [
    "%load_ext sparksql_magic"
   ]
  },
  {
   "cell_type": "code",
   "execution_count": 7,
   "id": "0ba3e728-bb9a-4130-9c73-39ec4e388911",
   "metadata": {},
   "outputs": [
    {
     "data": {
      "text/html": [
       "<table><tr style=\"border-bottom: 1px solid\"><td style=\"font-weight: bold\">namespace</td><td style=\"font-weight: bold\">tableName</td><td style=\"font-weight: bold\">isTemporary</td></tr><tr><td>default</td><td>device_data_events</td><td>False</td></tr><tr><td>default</td><td>people10m</td><td>False</td></tr><tr><td>default</td><td>taxi_zone_lookup</td><td>False</td></tr><tr><td>default</td><td>taxi_zones</td><td>False</td></tr><tr><td>default</td><td>trips_data</td><td>False</td></tr></table>"
      ],
      "text/plain": [
       "<IPython.core.display.HTML object>"
      ]
     },
     "execution_count": 7,
     "metadata": {},
     "output_type": "execute_result"
    }
   ],
   "source": [
    "%%sparksql\n",
    "show tables in default"
   ]
  }
 ],
 "metadata": {
  "kernelspec": {
   "display_name": "Python 3 (ipykernel)",
   "language": "python",
   "name": "python3"
  },
  "language_info": {
   "codemirror_mode": {
    "name": "ipython",
    "version": 3
   },
   "file_extension": ".py",
   "mimetype": "text/x-python",
   "name": "python",
   "nbconvert_exporter": "python",
   "pygments_lexer": "ipython3",
   "version": "3.10.13"
  }
 },
 "nbformat": 4,
 "nbformat_minor": 5
}
