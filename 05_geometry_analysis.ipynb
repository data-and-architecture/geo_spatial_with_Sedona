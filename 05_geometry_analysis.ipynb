{
 "cells": [
  {
   "cell_type": "code",
   "execution_count": 1,
   "id": "6e51deed-22d8-453b-9839-bee54ecbe769",
   "metadata": {},
   "outputs": [],
   "source": [
    "import geopandas as gpd\n",
    "from sedona.spark import *\n",
    "from delta import *\n",
    "from pyspark.sql import SparkSession\n",
    "\n",
    "packages = [\n",
    "    'io.delta:delta-core_2.12:2.1.1',\n",
    "    'org.apache.sedona:sedona-spark-shaded-3.4_2.12:1.5.0,'\n",
    "    'org.datasyslab:geotools-wrapper:1.5.0-28.2'\n",
    "]\n",
    "\n",
    "config = SedonaContext.builder()\\\n",
    "     .config(\"spark.jars.packages\", \",\".join(packages))\\\n",
    "     .config(\"spark.sql.extensions\", \"io.delta.sql.DeltaSparkSessionExtension\")\\\n",
    "     .config(\"spark.sql.catalog.spark_catalog\", \"org.apache.spark.sql.delta.catalog.DeltaCatalog\")\\\n",
    "     .enableHiveSupport()\\\n",
    "     .getOrCreate()\n",
    "\n",
    "sedona = SedonaContext.create(config)"
   ]
  },
  {
   "cell_type": "code",
   "execution_count": 4,
   "id": "c1a62f88-dba3-40b0-ba7a-efad24da2644",
   "metadata": {},
   "outputs": [
    {
     "name": "stdout",
     "output_type": "stream",
     "text": [
      "root\n",
      " |-- _c0: string (nullable = true)\n",
      " |-- _c1: string (nullable = true)\n",
      " |-- _c2: string (nullable = true)\n",
      " |-- _c3: string (nullable = true)\n",
      " |-- _c4: string (nullable = true)\n",
      " |-- _c5: string (nullable = true)\n",
      " |-- _c6: string (nullable = true)\n",
      " |-- _c7: string (nullable = true)\n",
      " |-- _c8: string (nullable = true)\n",
      " |-- _c9: string (nullable = true)\n",
      " |-- _c10: string (nullable = true)\n",
      " |-- _c11: string (nullable = true)\n",
      " |-- _c12: string (nullable = true)\n",
      " |-- _c13: string (nullable = true)\n",
      " |-- _c14: string (nullable = true)\n",
      " |-- _c15: string (nullable = true)\n",
      " |-- _c16: string (nullable = true)\n",
      " |-- _c17: string (nullable = true)\n",
      "\n"
     ]
    }
   ],
   "source": [
    "rawDf = sedona.read.format(\"csv\").option(\"delimiter\", \"\\t\").option(\"header\", \"false\").load(\"county_small.tsv\")\n",
    "rawDf.createOrReplaceTempView(\"rawdf\")\n",
    "rawDf.printSchema()"
   ]
  },
  {
   "cell_type": "code",
   "execution_count": 6,
   "id": "d968d2d5-cb81-48fa-9b89-f410cf22b8bc",
   "metadata": {},
   "outputs": [],
   "source": [
    "%load_ext sparksql_magic"
   ]
  },
  {
   "cell_type": "code",
   "execution_count": 8,
   "id": "90121f54-f517-4140-8c29-abec4dae4409",
   "metadata": {},
   "outputs": [
    {
     "data": {
      "text/html": [
       "<table><tr style=\"border-bottom: 1px solid\"><td style=\"font-weight: bold\">namespace</td><td style=\"font-weight: bold\">tableName</td><td style=\"font-weight: bold\">isTemporary</td></tr><tr><td>default</td><td>device_data_events</td><td>False</td></tr><tr><td>default</td><td>people10m</td><td>False</td></tr><tr><td>default</td><td>taxi_zone_lookup</td><td>False</td></tr><tr><td>default</td><td>taxi_zones</td><td>False</td></tr><tr><td>default</td><td>trips_data</td><td>False</td></tr><tr><td></td><td>rawdf</td><td>False</td></tr></table>"
      ],
      "text/plain": [
       "<IPython.core.display.HTML object>"
      ]
     },
     "execution_count": 8,
     "metadata": {},
     "output_type": "execute_result"
    }
   ],
   "source": [
    "%%sparksql\n",
    "show tables in default"
   ]
  },
  {
   "cell_type": "code",
   "execution_count": 10,
   "id": "1f493c18-30f3-40d2-8548-42ac9112be08",
   "metadata": {},
   "outputs": [
    {
     "data": {
      "text/html": [
       "<table><tr style=\"border-bottom: 1px solid\"><td style=\"font-weight: bold\">st_geomfromgeohash(s00twy01mt, 4)</td></tr><tr><td>POLYGON ((0.703125 0.87890625, 0.703125 1.0546875, 1.0546875 1.0546875, 1.0546875 0.87890625, 0.703125 0.87890625))</td></tr></table>"
      ],
      "text/plain": [
       "<IPython.core.display.HTML object>"
      ]
     },
     "execution_count": 10,
     "metadata": {},
     "output_type": "execute_result"
    }
   ],
   "source": [
    "%%sparksql\n",
    "SELECT ST_GeomFromGeoHash('s00twy01mt', 4)"
   ]
  },
  {
   "cell_type": "code",
   "execution_count": 12,
   "id": "87a00981-d290-452a-9808-fa6ac3fc0c80",
   "metadata": {},
   "outputs": [
    {
     "data": {
      "text/html": [
       "<table><tr style=\"border-bottom: 1px solid\"><td style=\"font-weight: bold\">st_geomfromgeojson({\n",
       "   &quot;type&quot;:&quot;Feature&quot;,\n",
       "   &quot;properties&quot;:{\n",
       "      &quot;STATEFP&quot;:&quot;01&quot;,\n",
       "      &quot;COUNTYFP&quot;:&quot;077&quot;,\n",
       "      &quot;TRACTCE&quot;:&quot;011501&quot;,\n",
       "      &quot;BLKGRPCE&quot;:&quot;5&quot;,\n",
       "      &quot;AFFGEOID&quot;:&quot;1500000US010770115015&quot;,\n",
       "      &quot;GEOID&quot;:&quot;010770115015&quot;,\n",
       "      &quot;NAME&quot;:&quot;5&quot;,\n",
       "      &quot;LSAD&quot;:&quot;BG&quot;,\n",
       "      &quot;ALAND&quot;:6844991,\n",
       "      &quot;AWATER&quot;:32636\n",
       "   },\n",
       "   &quot;geometry&quot;:{\n",
       "      &quot;type&quot;:&quot;Polygon&quot;,\n",
       "      &quot;coordinates&quot;:[\n",
       "         [\n",
       "            [-87.621765, 34.873444],\n",
       "            [-87.617535, 34.873369],\n",
       "            [-87.62119, 34.85053],\n",
       "            [-87.62144, 34.865379],\n",
       "            [-87.621765, 34.873444]\n",
       "         ]\n",
       "      ]\n",
       "   }\n",
       "})</td></tr><tr><td>POLYGON ((-87.621765 34.873444, -87.617535 34.873369, -87.62119 34.85053, -87.62144 34.865379, -87.621765 34.873444))</td></tr></table>"
      ],
      "text/plain": [
       "<IPython.core.display.HTML object>"
      ]
     },
     "execution_count": 12,
     "metadata": {},
     "output_type": "execute_result"
    }
   ],
   "source": [
    "%%sparksql\n",
    "SELECT ST_GeomFromGeoJSON('''{\n",
    "   \"type\":\"Feature\",\n",
    "   \"properties\":{\n",
    "      \"STATEFP\":\"01\",\n",
    "      \"COUNTYFP\":\"077\",\n",
    "      \"TRACTCE\":\"011501\",\n",
    "      \"BLKGRPCE\":\"5\",\n",
    "      \"AFFGEOID\":\"1500000US010770115015\",\n",
    "      \"GEOID\":\"010770115015\",\n",
    "      \"NAME\":\"5\",\n",
    "      \"LSAD\":\"BG\",\n",
    "      \"ALAND\":6844991,\n",
    "      \"AWATER\":32636\n",
    "   },\n",
    "   \"geometry\":{\n",
    "      \"type\":\"Polygon\",\n",
    "      \"coordinates\":[\n",
    "         [\n",
    "            [-87.621765, 34.873444],\n",
    "            [-87.617535, 34.873369],\n",
    "            [-87.62119, 34.85053],\n",
    "            [-87.62144, 34.865379],\n",
    "            [-87.621765, 34.873444]\n",
    "         ]\n",
    "      ]\n",
    "   }\n",
    "}''')"
   ]
  },
  {
   "cell_type": "code",
   "execution_count": 13,
   "id": "5f138a53-dbc1-498b-a852-c033227d5f17",
   "metadata": {},
   "outputs": [
    {
     "data": {
      "text/html": [
       "<table><tr style=\"border-bottom: 1px solid\"><td style=\"font-weight: bold\">geometrytype(st_geomfromtext(LINESTRING(77.29 29.07,77.42 29.26,77.27 29.31,77.29 29.07), 0))</td></tr><tr><td>LINESTRING</td></tr></table>"
      ],
      "text/plain": [
       "<IPython.core.display.HTML object>"
      ]
     },
     "execution_count": 13,
     "metadata": {},
     "output_type": "execute_result"
    }
   ],
   "source": [
    "%%sparksql\n",
    "SELECT GeometryType(ST_GeomFromText('LINESTRING(77.29 29.07,77.42 29.26,77.27 29.31,77.29 29.07)'));"
   ]
  },
  {
   "cell_type": "code",
   "execution_count": null,
   "id": "051cea61-d8b6-45f9-8133-d30a5887a3ba",
   "metadata": {},
   "outputs": [],
   "source": []
  }
 ],
 "metadata": {
  "kernelspec": {
   "display_name": "Python 3 (ipykernel)",
   "language": "python",
   "name": "python3"
  },
  "language_info": {
   "codemirror_mode": {
    "name": "ipython",
    "version": 3
   },
   "file_extension": ".py",
   "mimetype": "text/x-python",
   "name": "python",
   "nbconvert_exporter": "python",
   "pygments_lexer": "ipython3",
   "version": "3.10.13"
  }
 },
 "nbformat": 4,
 "nbformat_minor": 5
}
